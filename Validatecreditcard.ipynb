{
 "cells": [
  {
   "cell_type": "code",
   "execution_count": 18,
   "metadata": {},
   "outputs": [],
   "source": [
    "def validate_credit_card_number(card_number):\n",
    "    temp_list = [int(c) for c in str(card_number)]\n",
    "\n",
    "    list1 = temp_list[-2::-2]\n",
    "    list2 = temp_list[::-2]\n",
    "\n",
    "    total_sum = sum(list2)\n",
    "    for el in list1:\n",
    "        el *= 2\n",
    "        if el >= 10:\n",
    "            sum_res = 0\n",
    "            while el:\n",
    "                rem = el % 10\n",
    "                sum_res += rem\n",
    "                el = el // 10\n",
    "            total_sum += sum_res\n",
    "        else:\n",
    "            total_sum += el\n",
    "\n",
    "    return total_sum % 10 == 0"
   ]
  },
  {
   "cell_type": "code",
   "execution_count": 19,
   "metadata": {},
   "outputs": [
    {
     "name": "stdout",
     "output_type": "stream",
     "text": [
      "8906060250540575\n"
     ]
    }
   ],
   "source": [
    "#Generate 16 didgit code for testing\n",
    "from random import choices\n",
    "from string import digits\n",
    "\n",
    "cc_digits = choices(digits, k=16)\n",
    "cc_number = \"\".join(cc_digits)\n",
    "\n",
    "print(cc_number)"
   ]
  },
  {
   "cell_type": "code",
   "execution_count": 21,
   "metadata": {},
   "outputs": [
    {
     "data": {
      "text/plain": [
       "True"
      ]
     },
     "execution_count": 21,
     "metadata": {},
     "output_type": "execute_result"
    }
   ],
   "source": [
    "validate_credit_card_number(371592421457943)"
   ]
  },
  {
   "cell_type": "code",
   "execution_count": null,
   "metadata": {},
   "outputs": [],
   "source": []
  }
 ],
 "metadata": {
  "kernelspec": {
   "display_name": "Python 3",
   "language": "python",
   "name": "python3"
  },
  "language_info": {
   "codemirror_mode": {
    "name": "ipython",
    "version": 3
   },
   "file_extension": ".py",
   "mimetype": "text/x-python",
   "name": "python",
   "nbconvert_exporter": "python",
   "pygments_lexer": "ipython3",
   "version": "3.7.6"
  }
 },
 "nbformat": 4,
 "nbformat_minor": 4
}
